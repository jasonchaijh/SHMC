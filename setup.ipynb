{
 "cells": [
  {
   "cell_type": "markdown",
   "metadata": {},
   "source": [
    "The elliptic PDE goes as\n",
    "\\begin{array}{r}\n",
    "\\nabla_{x} \\cdot\\left(c(x, \\theta) \\nabla_{x} u(x, \\theta)\\right)=0, \\quad x \\in \\mathcal{X} \\\\\n",
    "\\left.u(\\boldsymbol{x}, \\theta)\\right|_{x_{2}=0}=x_{1},\\left.\\quad u(\\boldsymbol{x}, \\theta)\\right|_{x_{2}=1}=1-x_{1}, \\\\\n",
    "\\left.u(\\boldsymbol{x}, \\theta)\\right|_{x_{1}=0}=x_{2},\\left.\\quad u(\\boldsymbol{x}, \\theta)\\right|_{x_{1}=1}=1-x_{2} . \\\\\n",
    "\\text { where } \\mathcal{X}=[0,1]^{2}\n",
    "\\end{array}"
   ]
  },
  {
   "cell_type": "markdown",
   "metadata": {},
   "source": [
    "Parametrization is \n",
    "\n",
    "$$c(\\boldsymbol{x}, \\theta) \\approx \\exp \\left(\\sum_{(n, m)=(0,0),(0,1),(1,0),(1,1),(0,2),(2,0)} \\theta_{n, m} \\sqrt{\\lambda_{n} \\lambda_{m}} \\varphi_{n}\\left(x_{1}\\right) \\varphi_{m}\\left(x_{2}\\right)\\right)$$\n",
    "where \n",
    "$$\\lambda_{n}=\\frac{\\alpha \\varepsilon^{2 n}}{\\left(\\frac{\\alpha^{2}}{2}\\left(1+\\sqrt{1+\\left(\\frac{2 \\varepsilon}{\\alpha}\\right)^{2}}\\right)+\\varepsilon^{2}\\right)^{n+\\frac{1}{2}}}, \\quad n=0,1,2, \\ldots,$$\n",
    "and\n",
    "$$\\varphi_{n}(x)=\\frac{\\sqrt[8]{1+\\left(\\frac{2 \\varepsilon}{\\alpha}\\right)^{2}}}{\\sqrt{2^{n} n !}} \\mathrm{e}^{-\\left(\\sqrt{1+\\left(\\frac{2 \\varepsilon}{\\alpha}\\right)^{2}}-1\\right) \\frac{\\alpha^{2} x^{2}}{2}} H_{n}\\left(\\sqrt[4]{1+\\left(\\frac{2 \\varepsilon}{\\alpha}\\right)^{2}} \\alpha x\\right)$$"
   ]
  },
  {
   "cell_type": "code",
   "execution_count": null,
   "metadata": {},
   "outputs": [],
   "source": []
  }
 ],
 "metadata": {
  "kernelspec": {
   "display_name": "Python 3",
   "language": "python",
   "name": "python3"
  },
  "language_info": {
   "codemirror_mode": {
    "name": "ipython",
    "version": 3
   },
   "file_extension": ".py",
   "mimetype": "text/x-python",
   "name": "python",
   "nbconvert_exporter": "python",
   "pygments_lexer": "ipython3",
   "version": "3.8.5"
  },
  "toc": {
   "base_numbering": 1,
   "nav_menu": {},
   "number_sections": true,
   "sideBar": true,
   "skip_h1_title": false,
   "title_cell": "Table of Contents",
   "title_sidebar": "Contents",
   "toc_cell": false,
   "toc_position": {},
   "toc_section_display": true,
   "toc_window_display": false
  }
 },
 "nbformat": 4,
 "nbformat_minor": 4
}
